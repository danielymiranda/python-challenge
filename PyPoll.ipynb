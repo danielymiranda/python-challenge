{
 "cells": [
  {
   "cell_type": "code",
   "execution_count": 1,
   "metadata": {},
   "outputs": [],
   "source": [
    "import pandas as pd"
   ]
  },
  {
   "cell_type": "code",
   "execution_count": 2,
   "metadata": {},
   "outputs": [],
   "source": [
    "PyPoll_csv=\"PyPoll_data.csv\""
   ]
  },
  {
   "cell_type": "code",
   "execution_count": 3,
   "metadata": {},
   "outputs": [],
   "source": [
    "PyPoll_df=pd.read_csv(PyPoll_csv)"
   ]
  },
  {
   "cell_type": "code",
   "execution_count": 4,
   "metadata": {},
   "outputs": [
    {
     "data": {
      "text/html": [
       "<div>\n",
       "<style scoped>\n",
       "    .dataframe tbody tr th:only-of-type {\n",
       "        vertical-align: middle;\n",
       "    }\n",
       "\n",
       "    .dataframe tbody tr th {\n",
       "        vertical-align: top;\n",
       "    }\n",
       "\n",
       "    .dataframe thead th {\n",
       "        text-align: right;\n",
       "    }\n",
       "</style>\n",
       "<table border=\"1\" class=\"dataframe\">\n",
       "  <thead>\n",
       "    <tr style=\"text-align: right;\">\n",
       "      <th></th>\n",
       "      <th>Voter ID</th>\n",
       "      <th>County</th>\n",
       "      <th>Candidate</th>\n",
       "    </tr>\n",
       "  </thead>\n",
       "  <tbody>\n",
       "    <tr>\n",
       "      <td>0</td>\n",
       "      <td>12864552</td>\n",
       "      <td>Marsh</td>\n",
       "      <td>Khan</td>\n",
       "    </tr>\n",
       "    <tr>\n",
       "      <td>1</td>\n",
       "      <td>17444633</td>\n",
       "      <td>Marsh</td>\n",
       "      <td>Correy</td>\n",
       "    </tr>\n",
       "    <tr>\n",
       "      <td>2</td>\n",
       "      <td>19330107</td>\n",
       "      <td>Marsh</td>\n",
       "      <td>Khan</td>\n",
       "    </tr>\n",
       "    <tr>\n",
       "      <td>3</td>\n",
       "      <td>19865775</td>\n",
       "      <td>Queen</td>\n",
       "      <td>Khan</td>\n",
       "    </tr>\n",
       "    <tr>\n",
       "      <td>4</td>\n",
       "      <td>11927875</td>\n",
       "      <td>Marsh</td>\n",
       "      <td>Khan</td>\n",
       "    </tr>\n",
       "  </tbody>\n",
       "</table>\n",
       "</div>"
      ],
      "text/plain": [
       "   Voter ID County Candidate\n",
       "0  12864552  Marsh      Khan\n",
       "1  17444633  Marsh    Correy\n",
       "2  19330107  Marsh      Khan\n",
       "3  19865775  Queen      Khan\n",
       "4  11927875  Marsh      Khan"
      ]
     },
     "execution_count": 4,
     "metadata": {},
     "output_type": "execute_result"
    }
   ],
   "source": [
    "PyPoll_df.head()"
   ]
  },
  {
   "cell_type": "code",
   "execution_count": 5,
   "metadata": {},
   "outputs": [
    {
     "name": "stdout",
     "output_type": "stream",
     "text": [
      "Total Votes: 1048575\n"
     ]
    }
   ],
   "source": [
    "#The total number of votes cast\n",
    "Total_Votes=PyPoll_df[\"Voter ID\"].count()\n",
    "Print_Votes= f\"Total Votes: {Total_Votes}\"\n",
    "print(Print_Votes)"
   ]
  },
  {
   "cell_type": "code",
   "execution_count": 6,
   "metadata": {},
   "outputs": [
    {
     "data": {
      "text/plain": [
       "array(['Khan', 'Correy', 'Li', \"O'Tooley\"], dtype=object)"
      ]
     },
     "execution_count": 6,
     "metadata": {},
     "output_type": "execute_result"
    }
   ],
   "source": [
    "#A complete list of candidates who received votes\n",
    "\n",
    "Candidates=PyPoll_df[\"Candidate\"].unique()\n",
    "\n",
    "Candidates"
   ]
  },
  {
   "cell_type": "code",
   "execution_count": 7,
   "metadata": {},
   "outputs": [
    {
     "name": "stdout",
     "output_type": "stream",
     "text": [
      "Khan:63.09% (661583)\n"
     ]
    }
   ],
   "source": [
    "#The total number of votes each candidate won\n",
    "Khan_Votes=len(PyPoll_df[PyPoll_df[\"Candidate\"]==\"Khan\"])\n",
    "\n",
    "#The percentage of votes each candidate won\n",
    "Percentage_Khan=(Khan_Votes/Total_Votes)\n",
    "Format_Khan=(\"Khan:\" + \"{:.2%}\".format(Percentage_Khan))\n",
    "\n",
    "print (f\"{Format_Khan} ({Khan_Votes})\")\n"
   ]
  },
  {
   "cell_type": "code",
   "execution_count": 8,
   "metadata": {},
   "outputs": [
    {
     "name": "stdout",
     "output_type": "stream",
     "text": [
      "Correy:19.94% (209046)\n"
     ]
    }
   ],
   "source": [
    "#The total number of votes each candidate won\n",
    "Correy_Votes=len(PyPoll_df[PyPoll_df[\"Candidate\"]==\"Correy\"])\n",
    "\n",
    "#The percentage of votes each candidate won\n",
    "Percentage_Correy=(Correy_Votes/Total_Votes)\n",
    "Format_Correy=(\"Correy:\" + \"{:.2%}\".format(Percentage_Correy))\n",
    "\n",
    "print (f\"{Format_Correy} ({Correy_Votes})\")"
   ]
  },
  {
   "cell_type": "code",
   "execution_count": 9,
   "metadata": {},
   "outputs": [
    {
     "name": "stdout",
     "output_type": "stream",
     "text": [
      "Li:13.96% (146360)\n"
     ]
    }
   ],
   "source": [
    "#The total number of votes each candidate won\n",
    "Li_Votes=len(PyPoll_df[PyPoll_df[\"Candidate\"]==\"Li\"])\n",
    "\n",
    "#The percentage of votes each candidate won\n",
    "Percentage_Li=(Li_Votes/Total_Votes)\n",
    "Format_Li=(\"Li:\" + \"{:.2%}\".format(Percentage_Li))\n",
    "\n",
    "print (f\"{Format_Li} ({Li_Votes})\")"
   ]
  },
  {
   "cell_type": "code",
   "execution_count": 10,
   "metadata": {},
   "outputs": [
    {
     "name": "stdout",
     "output_type": "stream",
     "text": [
      "O'Tooley:3.01% (31586)\n"
     ]
    }
   ],
   "source": [
    "#The total number of votes each candidate won\n",
    "OTooley_Votes=len(PyPoll_df[PyPoll_df[\"Candidate\"]==\"O'Tooley\"])\n",
    "\n",
    "#The percentage of votes each candidate won\n",
    "Percentage_OTooley=(OTooley_Votes/Total_Votes)\n",
    "Format_OTooley=(\"O'Tooley:\" + \"{:.2%}\".format(Percentage_OTooley))\n",
    "\n",
    "print (f\"{Format_OTooley} ({OTooley_Votes})\")"
   ]
  },
  {
   "cell_type": "code",
   "execution_count": 11,
   "metadata": {},
   "outputs": [
    {
     "name": "stdout",
     "output_type": "stream",
     "text": [
      "The winner of the election based on popular votes is Khan:63.09% of the election / 661583 votes\n"
     ]
    }
   ],
   "source": [
    "#The winner of the election based on popular vote.\n",
    "\n",
    "print(f\"The winner of the election based on popular votes is {Format_Khan} of the election / {Khan_Votes} votes\")\n"
   ]
  },
  {
   "cell_type": "code",
   "execution_count": 12,
   "metadata": {},
   "outputs": [
    {
     "name": "stdout",
     "output_type": "stream",
     "text": [
      "Election Results\n",
      "--------------------\n",
      "Total Votes: 1048575\n",
      "--------------------\n",
      "Khan:63.09% (661583)\n",
      "Correy:19.94% (209046)\n",
      "Li:13.96% (146360)\n",
      "O'Tooley:3.01% (31586)\n",
      "--------------------\n",
      "The winner of the election based on popular votes is Khan:63.09% of the election / 661583 votes\n",
      "--------------------\n"
     ]
    }
   ],
   "source": [
    "print(\"Election Results\")\n",
    "print(\"--------------------\")\n",
    "print(Print_Votes)\n",
    "print(\"--------------------\")\n",
    "print (f\"{Format_Khan} ({Khan_Votes})\")\n",
    "print (f\"{Format_Correy} ({Correy_Votes})\")\n",
    "print (f\"{Format_Li} ({Li_Votes})\")\n",
    "print (f\"{Format_OTooley} ({OTooley_Votes})\")\n",
    "print(\"--------------------\")\n",
    "print(f\"The winner of the election based on popular votes is {Format_Khan} of the election / {Khan_Votes} votes\")\n",
    "print(\"--------------------\")\n"
   ]
  },
  {
   "cell_type": "code",
   "execution_count": 13,
   "metadata": {},
   "outputs": [],
   "source": [
    "PyPoll_df.to_excel(\"python_challenge_2.xlsx\",sheet_name='Sheet1')\n"
   ]
  },
  {
   "cell_type": "code",
   "execution_count": null,
   "metadata": {},
   "outputs": [],
   "source": []
  }
 ],
 "metadata": {
  "kernelspec": {
   "display_name": "Python 3",
   "language": "python",
   "name": "python3"
  },
  "language_info": {
   "codemirror_mode": {
    "name": "ipython",
    "version": 3
   },
   "file_extension": ".py",
   "mimetype": "text/x-python",
   "name": "python",
   "nbconvert_exporter": "python",
   "pygments_lexer": "ipython3",
   "version": "3.7.4"
  }
 },
 "nbformat": 4,
 "nbformat_minor": 2
}
